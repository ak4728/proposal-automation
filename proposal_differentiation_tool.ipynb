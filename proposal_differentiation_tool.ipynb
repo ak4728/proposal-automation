{
 "cells": [
  {
   "cell_type": "markdown",
   "id": "babba6a0",
   "metadata": {},
   "source": [
    "## Proposal_Differentiation_Tool\n",
    "\n",
    "Differentiate between Titles, Headers, Body paragraphs, etc.\n",
    "\n",
    "Should we create a separate excel file to track which proposals are \"good\" (won)?"
   ]
  },
  {
   "cell_type": "markdown",
   "id": "4f235a3a",
   "metadata": {},
   "source": [
    "### Initialize"
   ]
  },
  {
   "cell_type": "code",
   "execution_count": 1,
   "id": "9d6dd4bb",
   "metadata": {},
   "outputs": [],
   "source": [
    "import fitz\n",
    "import json\n",
    "from re import findall"
   ]
  },
  {
   "cell_type": "markdown",
   "id": "3464944c",
   "metadata": {},
   "source": [
    "### Get All Text tool"
   ]
  },
  {
   "cell_type": "code",
   "execution_count": 98,
   "id": "576b3670",
   "metadata": {
    "scrolled": true
   },
   "outputs": [
    {
     "name": "stderr",
     "output_type": "stream",
     "text": [
      "mupdf: cannot open ./downloaded/PDF.pdf: No such file or directory\n"
     ]
    },
    {
     "ename": "RuntimeError",
     "evalue": "cannot open ./downloaded/PDF.pdf: No such file or directory",
     "output_type": "error",
     "traceback": [
      "\u001b[1;31m---------------------------------------------------------------------------\u001b[0m",
      "\u001b[1;31mRuntimeError\u001b[0m                              Traceback (most recent call last)",
      "\u001b[1;32m<ipython-input-98-4f15a22ac80a>\u001b[0m in \u001b[0;36m<module>\u001b[1;34m\u001b[0m\n\u001b[0;32m      1\u001b[0m \u001b[1;31m# Select document & page number (0-indexed) to read\u001b[0m\u001b[1;33m\u001b[0m\u001b[1;33m\u001b[0m\u001b[1;33m\u001b[0m\u001b[0m\n\u001b[1;32m----> 2\u001b[1;33m \u001b[0mdoc\u001b[0m \u001b[1;33m=\u001b[0m \u001b[0mfitz\u001b[0m\u001b[1;33m.\u001b[0m\u001b[0mopen\u001b[0m\u001b[1;33m(\u001b[0m\u001b[1;34m\"./downloaded/PDF.pdf\"\u001b[0m\u001b[1;33m)\u001b[0m\u001b[1;33m\u001b[0m\u001b[1;33m\u001b[0m\u001b[0m\n\u001b[0m\u001b[0;32m      3\u001b[0m \u001b[0mpage_num\u001b[0m \u001b[1;33m=\u001b[0m \u001b[1;36m4\u001b[0m\u001b[1;33m\u001b[0m\u001b[1;33m\u001b[0m\u001b[0m\n\u001b[0;32m      4\u001b[0m \u001b[1;33m\u001b[0m\u001b[0m\n\u001b[0;32m      5\u001b[0m \u001b[1;31m# Run function to get the plain text\u001b[0m\u001b[1;33m\u001b[0m\u001b[1;33m\u001b[0m\u001b[1;33m\u001b[0m\u001b[0m\n",
      "\u001b[1;32mC:\\ProgramData\\Anaconda3\\lib\\site-packages\\fitz\\fitz.py\u001b[0m in \u001b[0;36m__init__\u001b[1;34m(self, filename, stream, filetype, rect, width, height, fontsize)\u001b[0m\n\u001b[0;32m   3605\u001b[0m         _fitz.Document_swiginit(\n\u001b[0;32m   3606\u001b[0m             \u001b[0mself\u001b[0m\u001b[1;33m,\u001b[0m\u001b[1;33m\u001b[0m\u001b[1;33m\u001b[0m\u001b[0m\n\u001b[1;32m-> 3607\u001b[1;33m             _fitz.new_Document(\n\u001b[0m\u001b[0;32m   3608\u001b[0m                 \u001b[0mfilename\u001b[0m\u001b[1;33m,\u001b[0m \u001b[0mstream\u001b[0m\u001b[1;33m,\u001b[0m \u001b[0mfiletype\u001b[0m\u001b[1;33m,\u001b[0m \u001b[0mrect\u001b[0m\u001b[1;33m,\u001b[0m \u001b[0mwidth\u001b[0m\u001b[1;33m,\u001b[0m \u001b[0mheight\u001b[0m\u001b[1;33m,\u001b[0m \u001b[0mfontsize\u001b[0m\u001b[1;33m\u001b[0m\u001b[1;33m\u001b[0m\u001b[0m\n\u001b[0;32m   3609\u001b[0m             ),\n",
      "\u001b[1;31mRuntimeError\u001b[0m: cannot open ./downloaded/PDF.pdf: No such file or directory"
     ]
    }
   ],
   "source": [
    "# Select document & page number (0-indexed) to read\n",
    "doc = fitz.open(\"./downloaded/PDF.pdf\")\n",
    "page_num = 4\n",
    "\n",
    "# Run function to get the plain text\n",
    "get_pdf_text(doc, page_num)"
   ]
  },
  {
   "cell_type": "code",
   "execution_count": 96,
   "id": "a0f4ff94",
   "metadata": {},
   "outputs": [],
   "source": [
    "def get_pdf_text(doc, page_num):\n",
    "    # Get page's text (json format)\n",
    "    json_text = doc[page_num].getText(\"json\")\n",
    "\n",
    "    # Group json entries by those that share the same color&font&size\n",
    "\n",
    "    # Convert string/json to usable format (dictionary/lists)\n",
    "    json_text = json.loads(json_text)  \n",
    "    text_blocks = json_text[\"blocks\"]\n",
    "    \n",
    "    # Set previous properties to None to prepare for comparisons\n",
    "    prev_color = None\n",
    "    prev_font = None\n",
    "    prev_size = None\n",
    "    text_holder = \"\"\n",
    "\n",
    "    # Iterate through all the text entries\n",
    "    for entry in text_blocks:\n",
    "        # Check if this block is an image\n",
    "        try:\n",
    "            img = entry[\"image\"]\n",
    "        except:\n",
    "            img = None\n",
    "            pass\n",
    "\n",
    "        # Check if this block exists, or if the end of the page has been reached\n",
    "        try: \n",
    "            lines = entry[\"lines\"]\n",
    "        except:\n",
    "            lines = None\n",
    "            pass\n",
    "\n",
    "        # Line is not an image and contains text so we continue\n",
    "        if lines != None and img == None:             \n",
    "            for spans in lines:\n",
    "                # Get the line data\n",
    "                spans = spans[\"spans\"]                \n",
    "\n",
    "                for i in range(len(spans)):\n",
    "                    span = spans[i]\n",
    "                    \n",
    "                    # Identify current line's properties and text\n",
    "                    font = span[\"font\"]\n",
    "                    color = span[\"color\"]\n",
    "                    size = span[\"size\"]\n",
    "                    text = span[\"text\"]\n",
    "\n",
    "                    # Check if current line has different properties from previous\n",
    "                    if (font != prev_font) or (color != prev_color) or (size != prev_size):\n",
    "                        # Current line has different properties.\n",
    "\n",
    "                        # For now, just print whatever text had the previous properties\n",
    "                        last_printed_text = text_holder\n",
    "                        print(text_holder, \"\\n\")\n",
    "\n",
    "                        # Reset text holder & prev_ properties\n",
    "                        text_holder = text\n",
    "                        prev_font = font\n",
    "                        prev_size = size\n",
    "                        prev_color = color\n",
    "\n",
    "                    else:\n",
    "                        # Current line has the same properties. Add it to the text block.\n",
    "                        text_holder += text\n",
    "                        \n",
    "    if last_printed_text != text_holder:\n",
    "        print(text_holder)\n",
    "  \n",
    "    return"
   ]
  },
  {
   "cell_type": "markdown",
   "id": "581ffe8a",
   "metadata": {},
   "source": [
    "### Differentiation between Text and Headers"
   ]
  },
  {
   "cell_type": "code",
   "execution_count": 71,
   "id": "c9f38776",
   "metadata": {
    "scrolled": true
   },
   "outputs": [
    {
     "name": "stdout",
     "output_type": "stream",
     "text": [
      "\n",
      "Body text properties:\n",
      "Font: Calibri-Light\n",
      "Font Size: 11\n",
      "Color: rgb(34, 31, 31)\n",
      "Number of words: 2620\n",
      "\n",
      "Wall time: 920 ms\n"
     ]
    }
   ],
   "source": [
    "%%time\n",
    "# Input document\n",
    "doc = fitz.open(\"./downloaded/PDF.pdf\")\n",
    "\n",
    "# Check if Table of Contents (bookmarks) exists for the PDF\n",
    "toc = doc.getToC()\n",
    "if len(toc) != 0:\n",
    "    # Use ToC to differentiate\n",
    "    pass\n",
    "\n",
    "# Run function to identify what properties are plain text\n",
    "ct_by_props = differentiate_pdf_text(doc)\n",
    "'''\n",
    "for key in ct_by_props:\n",
    "    print(key, \"==\", ct_by_props[key])\n",
    "'''\n",
    "\n",
    "# Select body text by whatever set of text props has the largest wordcount\n",
    "ct, body_text_props = find_body_text(ct_by_props)\n",
    "font = body_text_props[0]\n",
    "font_size = body_text_props[1]\n",
    "font_color_code = body_text_props[2]\n",
    "\n",
    "print(\"\\nBody text properties:\")\n",
    "print(\"Font:\", font)\n",
    "print(\"Font Size:\", font_size)\n",
    "print(\"Color:\", get_rgb_color(font_color_code))\n",
    "print(\"Number of words:\", ct)\n",
    "print()\n",
    "\n",
    "# Go back through and \"tag\" headers vs. body text\n"
   ]
  },
  {
   "cell_type": "code",
   "execution_count": 70,
   "id": "4f5853b6",
   "metadata": {},
   "outputs": [],
   "source": [
    "def count_words(s):\n",
    "    return len(findall(r'\\w+', s))\n",
    "\n",
    "# Find properties of body text for a pdf document\n",
    "def differentiate_pdf_text(doc):\n",
    "    num_pages = len(doc)\n",
    "    # Create a dictionary to hold word counts for each set of properties - props:ct\n",
    "    ct_by_props = {}\n",
    "        \n",
    "    for page_num in range(num_pages):          \n",
    "        # Get page's text (json format)\n",
    "        json_text = doc[page_num].getText(\"json\")\n",
    "\n",
    "        # Convert string/json to usable format (dictionary/lists)\n",
    "        json_text = json.loads(json_text)  \n",
    "        text_blocks = json_text[\"blocks\"]\n",
    "\n",
    "        # Set previous properties to None to prepare for comparisons\n",
    "        prev_props = (None, None, None)\n",
    "        text_holder = \"\"\n",
    "\n",
    "        # Iterate through all the text entries to count words for each set of properties\n",
    "        for entry in text_blocks: \n",
    "            # Check if this block is an image\n",
    "            try:\n",
    "                img = entry[\"image\"]\n",
    "            except:\n",
    "                img = None\n",
    "                pass\n",
    "\n",
    "            # Check if this block exists, or if the end of the page has been reached\n",
    "            try: \n",
    "                lines = entry[\"lines\"]\n",
    "            except:\n",
    "                lines = None\n",
    "                pass\n",
    "\n",
    "            # Line is not an image and contains text so we continue\n",
    "            if lines != None and img == None:             \n",
    "                for spans in lines:\n",
    "                    # Get the line data\n",
    "                    spans = spans[\"spans\"]                \n",
    "\n",
    "                    for i in range(len(spans)):\n",
    "                        span = spans[i]\n",
    "\n",
    "                        # Identify current line's properties and text\n",
    "                        # put into tuple - (font, size, color)\n",
    "                        props = (span[\"font\"], round(span[\"size\"]), span[\"color\"])\n",
    "                        text = span[\"text\"]                      \n",
    "\n",
    "                        ct = count_words(text_holder)\n",
    "\n",
    "                        # Update dictionary\n",
    "                        if props not in ct_by_props:\n",
    "                            ct_by_props[props] = ct\n",
    "                        else:\n",
    "                            ct_by_props[props] = ct_by_props[props] + ct\n",
    "\n",
    "                        # Update text holder & prev properties to new\n",
    "                        text_holder = text\n",
    "                        prev_props = props\n",
    "    return ct_by_props"
   ]
  },
  {
   "cell_type": "code",
   "execution_count": 4,
   "id": "231d3b4d",
   "metadata": {},
   "outputs": [],
   "source": [
    "def find_body_text(ct_by_props):\n",
    "    max_ct = 0\n",
    "    max_ct_props = None\n",
    "    for props in ct_by_props:\n",
    "        props_ct = ct_by_props[props]\n",
    "        if props_ct > max_ct:\n",
    "            max_ct = props_ct\n",
    "            max_ct_props = props\n",
    "    return max_ct, max_ct_props"
   ]
  },
  {
   "cell_type": "code",
   "execution_count": 5,
   "id": "a8249e43",
   "metadata": {},
   "outputs": [
    {
     "name": "stdout",
     "output_type": "stream",
     "text": [
      "rgb(198, 200, 202)\n"
     ]
    }
   ],
   "source": [
    "def get_rgb_color(color_code):\n",
    "    cc = fitz.sRGB_to_rgb(color_code)    \n",
    "    cc = \"\".join(str(cc))\n",
    "    cc = \"rgb\" + cc\n",
    "    return cc\n",
    "\n",
    "cc = get_rgb_color(13027530)\n",
    "print(cc)"
   ]
  },
  {
   "cell_type": "markdown",
   "id": "4f0fd54e",
   "metadata": {},
   "source": [
    "### Notes section (Misc. code used for debugging)"
   ]
  },
  {
   "cell_type": "code",
   "execution_count": 95,
   "id": "d33a089f",
   "metadata": {
    "scrolled": true
   },
   "outputs": [
    {
     "name": "stderr",
     "output_type": "stream",
     "text": [
      "mupdf: cannot open ./downloaded/DOC.pdf: No such file or directory\n"
     ]
    },
    {
     "ename": "RuntimeError",
     "evalue": "cannot open ./downloaded/DOC.pdf: No such file or directory",
     "output_type": "error",
     "traceback": [
      "\u001b[1;31m---------------------------------------------------------------------------\u001b[0m",
      "\u001b[1;31mRuntimeError\u001b[0m                              Traceback (most recent call last)",
      "\u001b[1;32m<ipython-input-95-9e27087915b1>\u001b[0m in \u001b[0;36m<module>\u001b[1;34m\u001b[0m\n\u001b[0;32m      1\u001b[0m \u001b[1;31m# Check what style is like for json entries/spans/span/text\u001b[0m\u001b[1;33m\u001b[0m\u001b[1;33m\u001b[0m\u001b[1;33m\u001b[0m\u001b[0m\n\u001b[1;32m----> 2\u001b[1;33m \u001b[0mdoc\u001b[0m \u001b[1;33m=\u001b[0m \u001b[0mfitz\u001b[0m\u001b[1;33m.\u001b[0m\u001b[0mopen\u001b[0m\u001b[1;33m(\u001b[0m\u001b[1;34m\"./downloaded/DOC.pdf\"\u001b[0m\u001b[1;33m)\u001b[0m\u001b[1;33m\u001b[0m\u001b[1;33m\u001b[0m\u001b[0m\n\u001b[0m\u001b[0;32m      3\u001b[0m \u001b[0mpage_num\u001b[0m \u001b[1;33m=\u001b[0m \u001b[1;36m1\u001b[0m\u001b[1;33m\u001b[0m\u001b[1;33m\u001b[0m\u001b[0m\n\u001b[0;32m      4\u001b[0m \u001b[1;33m\u001b[0m\u001b[0m\n\u001b[0;32m      5\u001b[0m \u001b[1;32mdef\u001b[0m \u001b[0mprint_first_entry\u001b[0m\u001b[1;33m(\u001b[0m\u001b[0mdoc\u001b[0m\u001b[1;33m,\u001b[0m \u001b[0mpage_num\u001b[0m\u001b[1;33m)\u001b[0m\u001b[1;33m:\u001b[0m\u001b[1;33m\u001b[0m\u001b[1;33m\u001b[0m\u001b[0m\n",
      "\u001b[1;32mC:\\ProgramData\\Anaconda3\\lib\\site-packages\\fitz\\fitz.py\u001b[0m in \u001b[0;36m__init__\u001b[1;34m(self, filename, stream, filetype, rect, width, height, fontsize)\u001b[0m\n\u001b[0;32m   3605\u001b[0m         _fitz.Document_swiginit(\n\u001b[0;32m   3606\u001b[0m             \u001b[0mself\u001b[0m\u001b[1;33m,\u001b[0m\u001b[1;33m\u001b[0m\u001b[1;33m\u001b[0m\u001b[0m\n\u001b[1;32m-> 3607\u001b[1;33m             _fitz.new_Document(\n\u001b[0m\u001b[0;32m   3608\u001b[0m                 \u001b[0mfilename\u001b[0m\u001b[1;33m,\u001b[0m \u001b[0mstream\u001b[0m\u001b[1;33m,\u001b[0m \u001b[0mfiletype\u001b[0m\u001b[1;33m,\u001b[0m \u001b[0mrect\u001b[0m\u001b[1;33m,\u001b[0m \u001b[0mwidth\u001b[0m\u001b[1;33m,\u001b[0m \u001b[0mheight\u001b[0m\u001b[1;33m,\u001b[0m \u001b[0mfontsize\u001b[0m\u001b[1;33m\u001b[0m\u001b[1;33m\u001b[0m\u001b[0m\n\u001b[0;32m   3609\u001b[0m             ),\n",
      "\u001b[1;31mRuntimeError\u001b[0m: cannot open ./downloaded/DOC.pdf: No such file or directory"
     ]
    }
   ],
   "source": [
    "# Check what style is like for json entries/spans/span/text\n",
    "doc = fitz.open(\"./downloaded/DOC.pdf\")\n",
    "page_num = 1\n",
    "\n",
    "def print_first_entry(doc, page_num):\n",
    "    # Get page's text (json format)\n",
    "    json_text = doc[page_num].getText(\"json\")\n",
    "\n",
    "    # Convert string/json to usable format (dictionary/lists)\n",
    "    json_text = json.loads(json_text)  \n",
    "    text_blocks = json_text[\"blocks\"]\n",
    "    \n",
    "    # Iterate through all the text entries\n",
    "    for entry in text_blocks:\n",
    "        \n",
    "        lines = entry[\"lines\"]\n",
    "        print(\"LINES:\\n\", lines, \"\\n\")\n",
    "\n",
    "        if lines != None:\n",
    "            for spans in lines:       \n",
    "                # Get the line data\n",
    "                spans = spans[\"spans\"]\n",
    "                \n",
    "                print(\"SPANS:\\n\", spans, \"\\n\")\n",
    "\n",
    "                for i in range(len(spans)):\n",
    "                    span = spans[i]\n",
    "                    \n",
    "                    print(\"SPAN:\\n\", span, \"\\n\")\n",
    "                    \n",
    "                    # Identify current line's properties and text\n",
    "                    text = span[\"text\"]\n",
    "                    print(\"TEXT:\\n\", text, \"\\n\")\n",
    "        break\n",
    "    return\n",
    "\n",
    "print_first_entry(doc,page_num)"
   ]
  },
  {
   "cell_type": "code",
   "execution_count": 94,
   "id": "e280ed41",
   "metadata": {},
   "outputs": [
    {
     "name": "stderr",
     "output_type": "stream",
     "text": [
      "mupdf: cannot open ./downloaded/DOC.pdf: No such file or directory\n"
     ]
    },
    {
     "ename": "RuntimeError",
     "evalue": "cannot open ./downloaded/DOC.pdf: No such file or directory",
     "output_type": "error",
     "traceback": [
      "\u001b[1;31m---------------------------------------------------------------------------\u001b[0m",
      "\u001b[1;31mRuntimeError\u001b[0m                              Traceback (most recent call last)",
      "\u001b[1;32m<ipython-input-94-d966fc3300ff>\u001b[0m in \u001b[0;36m<module>\u001b[1;34m\u001b[0m\n\u001b[1;32m----> 1\u001b[1;33m \u001b[0mdoc\u001b[0m \u001b[1;33m=\u001b[0m \u001b[0mfitz\u001b[0m\u001b[1;33m.\u001b[0m\u001b[0mopen\u001b[0m\u001b[1;33m(\u001b[0m\u001b[1;34m\"./downloaded/DOC.pdf\"\u001b[0m\u001b[1;33m)\u001b[0m\u001b[1;33m\u001b[0m\u001b[1;33m\u001b[0m\u001b[0m\n\u001b[0m\u001b[0;32m      2\u001b[0m \u001b[0mpage_num\u001b[0m \u001b[1;33m=\u001b[0m \u001b[1;36m1\u001b[0m\u001b[1;33m\u001b[0m\u001b[1;33m\u001b[0m\u001b[0m\n\u001b[0;32m      3\u001b[0m \u001b[1;33m\u001b[0m\u001b[0m\n\u001b[0;32m      4\u001b[0m \u001b[1;32mdef\u001b[0m \u001b[0mget_json_text\u001b[0m\u001b[1;33m(\u001b[0m\u001b[0mdoc\u001b[0m\u001b[1;33m,\u001b[0m \u001b[0mpage_num\u001b[0m\u001b[1;33m)\u001b[0m\u001b[1;33m:\u001b[0m\u001b[1;33m\u001b[0m\u001b[1;33m\u001b[0m\u001b[0m\n\u001b[0;32m      5\u001b[0m     \u001b[1;31m# Get page's text (json format)\u001b[0m\u001b[1;33m\u001b[0m\u001b[1;33m\u001b[0m\u001b[1;33m\u001b[0m\u001b[0m\n",
      "\u001b[1;32mC:\\ProgramData\\Anaconda3\\lib\\site-packages\\fitz\\fitz.py\u001b[0m in \u001b[0;36m__init__\u001b[1;34m(self, filename, stream, filetype, rect, width, height, fontsize)\u001b[0m\n\u001b[0;32m   3605\u001b[0m         _fitz.Document_swiginit(\n\u001b[0;32m   3606\u001b[0m             \u001b[0mself\u001b[0m\u001b[1;33m,\u001b[0m\u001b[1;33m\u001b[0m\u001b[1;33m\u001b[0m\u001b[0m\n\u001b[1;32m-> 3607\u001b[1;33m             _fitz.new_Document(\n\u001b[0m\u001b[0;32m   3608\u001b[0m                 \u001b[0mfilename\u001b[0m\u001b[1;33m,\u001b[0m \u001b[0mstream\u001b[0m\u001b[1;33m,\u001b[0m \u001b[0mfiletype\u001b[0m\u001b[1;33m,\u001b[0m \u001b[0mrect\u001b[0m\u001b[1;33m,\u001b[0m \u001b[0mwidth\u001b[0m\u001b[1;33m,\u001b[0m \u001b[0mheight\u001b[0m\u001b[1;33m,\u001b[0m \u001b[0mfontsize\u001b[0m\u001b[1;33m\u001b[0m\u001b[1;33m\u001b[0m\u001b[0m\n\u001b[0;32m   3609\u001b[0m             ),\n",
      "\u001b[1;31mRuntimeError\u001b[0m: cannot open ./downloaded/DOC.pdf: No such file or directory"
     ]
    }
   ],
   "source": [
    "doc = fitz.open(\"./downloaded/DOC.pdf\")\n",
    "page_num = 1\n",
    "\n",
    "def get_json_text(doc, page_num):\n",
    "    # Get page's text (json format)\n",
    "    json_text = doc[page_num].getText(\"json\")\n",
    "\n",
    "    # Group json entries by those that share the same color&font&size\n",
    "\n",
    "    # Convert string/json to usable format (dictionary/lists)\n",
    "    json_text = json.loads(json_text)  \n",
    "    text_blocks = json_text[\"blocks\"]\n",
    "    return print(text_blocks)\n",
    "\n",
    "get_json_text(doc, page_num)"
   ]
  },
  {
   "cell_type": "code",
   "execution_count": null,
   "id": "44636ae7",
   "metadata": {},
   "outputs": [],
   "source": []
  }
 ],
 "metadata": {
  "kernelspec": {
   "display_name": "Python 3",
   "language": "python",
   "name": "python3"
  },
  "language_info": {
   "codemirror_mode": {
    "name": "ipython",
    "version": 3
   },
   "file_extension": ".py",
   "mimetype": "text/x-python",
   "name": "python",
   "nbconvert_exporter": "python",
   "pygments_lexer": "ipython3",
   "version": "3.8.8"
  }
 },
 "nbformat": 4,
 "nbformat_minor": 5
}
