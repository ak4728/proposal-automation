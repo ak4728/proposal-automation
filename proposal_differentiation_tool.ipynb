{
 "cells": [
  {
   "cell_type": "markdown",
   "id": "babba6a0",
   "metadata": {},
   "source": [
    "## Proposal_Differentiation_Tool\n",
    "\n",
    "Differentiate between Titles, Headers, Body paragraphs, etc."
   ]
  },
  {
   "cell_type": "markdown",
   "id": "4f235a3a",
   "metadata": {},
   "source": [
    "### Initialize"
   ]
  },
  {
   "cell_type": "code",
   "execution_count": 1,
   "id": "9d6dd4bb",
   "metadata": {},
   "outputs": [],
   "source": [
    "import fitz\n",
    "import json"
   ]
  },
  {
   "cell_type": "markdown",
   "id": "3464944c",
   "metadata": {},
   "source": [
    "### Differentiation tool"
   ]
  },
  {
   "cell_type": "code",
   "execution_count": 2,
   "id": "8b097f90",
   "metadata": {
    "scrolled": true
   },
   "outputs": [
    {
     "name": "stdout",
     "output_type": "stream",
     "text": [
      "\n",
      "\n",
      "Ulteig 3\n",
      "\n",
      "While the City of Brandon is one of a kind, other cities throughout the region and across the country have experienced similar bicycle and pedestrian issues. To capture insight from their experiences, the project team will conduct a review of peer cities that display similar demographic characteristics or have implemented policies applicable to the infrastructure or demand patterns found in Brandon.We propose to begin mapping efforts for the plan early on in the overall project development process. Beginning the mapping process early in the planning process has worked well for us in previous planning projects and allows us to have better maps for the Public Engagement process. Mapping will provide the Project Team with a full and up to date picture of the region’s land use and transportation footprint, both now and in the future, allowing us to illustrate development patterns and opportunities for change. Integrating the region’s planning efforts will also allow the Project Team to assess the distinct standards, practices, and policies currently in place and identify opportunities to unify them as part of this project. This information will be used to develop appropriate design elements and pinpoint potential infill or expansion opportunities. Potential indicators may include sidewalk width or type, land use density, zoning ordinances or standards, distance from key destinations, or vehicle volumes. Part of this task will include documenting and assessing typical cross sections for different roadway types and outlining best practices for distinct roadway types that encourages walking and biking.\n",
      "\n",
      "Task 3. Existing Conditions & Data Collection\n",
      "\n",
      "Land uses are generally separated from each other in Brandon, with a roadway network that follows a typical suburban pattern of minor arterials providing auto-oriented connections to commercial areas, schools, employment centers, and other major destinations. Our team will conduct a thorough investigation and analysis of existing conditions by completing site visits and using available resources including socio-demographic data, photo inventory of existing facilities, GIS databases and maps, existing bicycle and pedestrian plans and public input. Special attention will be paid to school areas, key locations, and critical crossings determined after safety and connectivity analyses. Existing transportation mode choice, land use, household size and other demographic information can be used to infer bike and walk trips.Our team will review existing transportation and land use plans, and compile information on existing and planned parks, residential developments, trails, pedestrian facilities, transit facilities, schools, government buildings, and surrounding recreation areas. A fundamental method to evaluate bicycle and pedestrian use and needs is to conduct professional counts. Bicycle and pedestrian counts usually serve as a baseline each year and can be a key part of an annual performance report. Ulteig will use modeling tools for tracking bicycling and walking trends over time and will manually conduct bicycle and pedestrian counts at selected key locations.One of the best systems for understanding the varying demand and comfort levels of existing and potential bicycle riders is to adopt the “Four Types of Bicycle Riders” framework developed by the City of Portland. This approach groups bicycle riders under four main interest levels: interested but concerned (~60%), enthusiastic and confident (~7-9%), strong and fearless (~1%), not able or interested (~30%). Various bike and pedestrian infrastructure treatments may increase the number of people biking and walking. For example, facilities with greater separation from motor-vehicle traffic will invite members of interested but concerned group into biking. Our team will predict the existing levels of bicycle and pedestrian activities and forecast future use considering four types of bicycle riders and utilizing factor methods, sketch planning tools, and aggregate demand models based on data availability.\n",
      "\n",
      "DELIVERABLE\n",
      "\n",
      "Task 4. Public & Stakeholder Engagement\n",
      "\n",
      "Our project team recognizes the importance of engagement with the public and stakeholders, in particular for a bicycle and pedestrian plan. Unlike vehicular traffic, where congestion is an obvious indication of the need for improvements, bike and pedestrian traffic are driven by the presence and accessibility of infrastructure. If infrastructure for bikes and pedestrians is non-existent or severely lacking, there will be no volumes present to indicate the need; the need is provided by the input from those who wish to have such infrastructure, and this plan will be a great opportunity to gather feedback and have 2-way dialogue with the public and plan stakeholders. Input from key stakeholders will be used to understand specific needs, uncover project challenges, and identify historic, political, or procedural barriers. We plan to complete numerous stakeholder interviews with key individuals, providing us with a unique understanding of the current landscape, barriers, and potential partnerships that exist. As part of the Brandon Bike and Pedestrian Plan, we again plan to place a strong emphasis on stakeholder engagement through a combination of public input activities and direct engagement with interested parties. \n",
      "\n",
      "Stakeholder Group Meetings \n",
      "\n",
      "departments that would be affected by the implementing policies and procedures set forth in the Bike and Pedestrian Plan. Engaging key members of these departments will be key to developing a plan that is collectively supported by City departments. Our plan will be to develop a stakeholder group comprised of individuals from these departments, as well as other interested parties. We propose that this stakeholder group meet bi-monthly during the development of the draft plan, and again following publication of the draft. Ulteig will work with the primary stakeholders in Planning Review Meetings to accomplish the objectives and meet the expectations of the Brandon Bike and Pedestrian Plan:\n",
      "\n",
      " ♦\n",
      "\n",
      "Brandon Park Board Advisory Committee\n",
      "\n",
      " ♦\n",
      "\n",
      "Federal Highway Administration (FHWA)\n",
      "\n",
      " ♦\n",
      "\n",
      "South Dakota Department of Transportation (SDDOT)\n",
      "\n",
      " ♦\n",
      "\n",
      "Sioux Falls Metropolitan Planning Organization (MPO)\n",
      "\n",
      " ♦\n",
      "\n"
     ]
    },
    {
     "ename": "KeyError",
     "evalue": "'lines'",
     "output_type": "error",
     "traceback": [
      "\u001b[1;31m---------------------------------------------------------------------------\u001b[0m",
      "\u001b[1;31mKeyError\u001b[0m                                  Traceback (most recent call last)",
      "\u001b[1;32m<ipython-input-2-d303f15854d7>\u001b[0m in \u001b[0;36m<module>\u001b[1;34m\u001b[0m\n\u001b[0;32m     27\u001b[0m     \u001b[1;31m# Iterate through all the text entries\u001b[0m\u001b[1;33m\u001b[0m\u001b[1;33m\u001b[0m\u001b[1;33m\u001b[0m\u001b[0m\n\u001b[0;32m     28\u001b[0m     \u001b[1;32mfor\u001b[0m \u001b[0mentry\u001b[0m \u001b[1;32min\u001b[0m \u001b[0mtext_blocks\u001b[0m\u001b[1;33m:\u001b[0m\u001b[1;33m\u001b[0m\u001b[1;33m\u001b[0m\u001b[0m\n\u001b[1;32m---> 29\u001b[1;33m         \u001b[0mlines\u001b[0m \u001b[1;33m=\u001b[0m \u001b[0mentry\u001b[0m\u001b[1;33m[\u001b[0m\u001b[1;34m\"lines\"\u001b[0m\u001b[1;33m]\u001b[0m\u001b[1;33m\u001b[0m\u001b[1;33m\u001b[0m\u001b[0m\n\u001b[0m\u001b[0;32m     30\u001b[0m \u001b[1;33m\u001b[0m\u001b[0m\n\u001b[0;32m     31\u001b[0m         '''\n",
      "\u001b[1;31mKeyError\u001b[0m: 'lines'"
     ]
    }
   ],
   "source": [
    "doc = fitz.open(\"./downloaded/Bike.pdf\")\n",
    "\n",
    "# Check if Table of Contents (bookmarks) exists for the PDF\n",
    "toc = doc.getToC()\n",
    "if len(toc) != 0:\n",
    "    # Use ToC to differentiate\n",
    "    print(\"Table of Contents exists \\n\", toc)\n",
    "else:\n",
    "    # Cannot use ToC. Must use another metric to differentiate\n",
    "    # Get page's text (json format)\n",
    "    json_text = doc[6].getText(\"json\")\n",
    "    \n",
    "    # Group json entries by those that share the same color&font&size\n",
    "    \n",
    "    # Convert string/json to usable format (dictionary/lists)\n",
    "    json_text = json.loads(json_text)  \n",
    "    text_blocks = json_text[\"blocks\"]\n",
    "    \n",
    "    # Set previous properties to None to prepare for comparisons\n",
    "    prev_color = None\n",
    "    prev_font = None\n",
    "    prev_size = None\n",
    "    text_holder = \"\"\n",
    "    \n",
    "    # Iterate through all the text entries\n",
    "    for entry in text_blocks:\n",
    "        lines = entry[\"lines\"]\n",
    "        \n",
    "        '''\n",
    "        try: \n",
    "            lines = entry[\"lines\"]\n",
    "        except:\n",
    "            # No line following\n",
    "        '''\n",
    "\n",
    "        if lines != None:\n",
    "            \n",
    "            for spans in lines:\n",
    "                # Get the line data\n",
    "                span = spans[\"spans\"][0]\n",
    "                \n",
    "                # Identify current line's properties and text\n",
    "                font = span[\"font\"]\n",
    "                color = span[\"color\"]\n",
    "                size = span[\"size\"]\n",
    "                text = span[\"text\"]\n",
    "                \n",
    "                # Check if current line has different properties from previous\n",
    "                if (font != prev_font) or (color != prev_color) or (size != prev_size):\n",
    "                    # Current line has different properties.\n",
    "                    \n",
    "                    # For now, just print whatever text had the previous properties\n",
    "                    print(text_holder)\n",
    "                    print()\n",
    "                    \n",
    "                    # Reset text holder & prev_ properties\n",
    "                    text_holder = text\n",
    "                    prev_font = font\n",
    "                    prev_size = size\n",
    "                    prev_color = color\n",
    "                \n",
    "                else:\n",
    "                    # Current line has the same properties. Add it to the text block.\n",
    "                    text_holder += text"
   ]
  }
 ],
 "metadata": {
  "kernelspec": {
   "display_name": "Python 3",
   "language": "python",
   "name": "python3"
  },
  "language_info": {
   "codemirror_mode": {
    "name": "ipython",
    "version": 3
   },
   "file_extension": ".py",
   "mimetype": "text/x-python",
   "name": "python",
   "nbconvert_exporter": "python",
   "pygments_lexer": "ipython3",
   "version": "3.8.8"
  }
 },
 "nbformat": 4,
 "nbformat_minor": 5
}
