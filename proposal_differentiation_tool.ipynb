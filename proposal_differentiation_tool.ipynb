{
 "cells": [
  {
   "cell_type": "markdown",
   "id": "babba6a0",
   "metadata": {},
   "source": [
    "## Proposal_Differentiation_Tool - Github\n",
    "\n",
    "Differentiate between Titles, Headers, Body paragraphs, etc."
   ]
  },
  {
   "cell_type": "markdown",
   "id": "03fc0224",
   "metadata": {},
   "source": [
    "# Save document (headers & body text) into a dictionary"
   ]
  },
  {
   "cell_type": "markdown",
   "id": "4f235a3a",
   "metadata": {},
   "source": [
    "### Initialize"
   ]
  },
  {
   "cell_type": "code",
   "execution_count": 1,
   "id": "9d6dd4bb",
   "metadata": {},
   "outputs": [],
   "source": [
    "import fitz\n",
    "import json\n",
    "from re import findall\n",
    "from re import sub"
   ]
  },
  {
   "cell_type": "markdown",
   "id": "31395746",
   "metadata": {},
   "source": [
    "### Main"
   ]
  },
  {
   "cell_type": "code",
   "execution_count": 2,
   "id": "afa25cb2",
   "metadata": {
    "scrolled": false
   },
   "outputs": [
    {
     "name": "stderr",
     "output_type": "stream",
     "text": [
      "mupdf: cannot open ./downloaded/PDF.pdf: No such file or directory\n"
     ]
    },
    {
     "ename": "RuntimeError",
     "evalue": "cannot open ./downloaded/PDF.pdf: No such file or directory",
     "output_type": "error",
     "traceback": [
      "\u001b[1;31m---------------------------------------------------------------------------\u001b[0m",
      "\u001b[1;31mRuntimeError\u001b[0m                              Traceback (most recent call last)",
      "\u001b[1;32m<timed exec>\u001b[0m in \u001b[0;36m<module>\u001b[1;34m\u001b[0m\n",
      "\u001b[1;32mC:\\ProgramData\\Anaconda3\\lib\\site-packages\\fitz\\fitz.py\u001b[0m in \u001b[0;36m__init__\u001b[1;34m(self, filename, stream, filetype, rect, width, height, fontsize)\u001b[0m\n\u001b[0;32m   3605\u001b[0m         _fitz.Document_swiginit(\n\u001b[0;32m   3606\u001b[0m             \u001b[0mself\u001b[0m\u001b[1;33m,\u001b[0m\u001b[1;33m\u001b[0m\u001b[1;33m\u001b[0m\u001b[0m\n\u001b[1;32m-> 3607\u001b[1;33m             _fitz.new_Document(\n\u001b[0m\u001b[0;32m   3608\u001b[0m                 \u001b[0mfilename\u001b[0m\u001b[1;33m,\u001b[0m \u001b[0mstream\u001b[0m\u001b[1;33m,\u001b[0m \u001b[0mfiletype\u001b[0m\u001b[1;33m,\u001b[0m \u001b[0mrect\u001b[0m\u001b[1;33m,\u001b[0m \u001b[0mwidth\u001b[0m\u001b[1;33m,\u001b[0m \u001b[0mheight\u001b[0m\u001b[1;33m,\u001b[0m \u001b[0mfontsize\u001b[0m\u001b[1;33m\u001b[0m\u001b[1;33m\u001b[0m\u001b[0m\n\u001b[0;32m   3609\u001b[0m             ),\n",
      "\u001b[1;31mRuntimeError\u001b[0m: cannot open ./downloaded/PDF.pdf: No such file or directory"
     ]
    }
   ],
   "source": [
    "%%time\n",
    "doc = fitz.open(\"./downloaded/PDF.pdf\")\n",
    "\n",
    "def main(doc):\n",
    "    # Remove appendix/CVs\n",
    "    print(\"Before appendix/CV removal:\", len(doc), \"pages\")\n",
    "    pages_to_remove = find_extraneous_pages(doc)\n",
    "    remove_extra_pages(doc, pages_to_remove)\n",
    "    print(\"After removal:\", len(doc), \"pages\")\n",
    "    \n",
    "    # Run function to identify what properties are plain text\n",
    "    ct, body_text_props = differentiate_pdf_text(doc)\n",
    "    print()\n",
    "    print_body_text_props(ct, body_text_props)\n",
    "    \n",
    "    # Go back through and save headers & body text to a dict\n",
    "    text_dict = save_to_dict(doc, body_text_props)\n",
    "    for k in text_dict:\n",
    "        print(k, \"\\n'\", text_dict[k], \"'\\n\", sep=\"\")\n",
    "\n",
    "    return\n",
    "\n",
    "main(doc)"
   ]
  },
  {
   "cell_type": "markdown",
   "id": "1b84b020",
   "metadata": {},
   "source": [
    "### Find body text properties"
   ]
  },
  {
   "cell_type": "code",
   "execution_count": 41,
   "id": "24a3fad0",
   "metadata": {},
   "outputs": [],
   "source": [
    "'''\n",
    "Functions for finding the text properties of body text for a pdf document.\n",
    "Save those properties for later use.\n",
    "'''\n",
    "def differentiate_pdf_text(doc):\n",
    "    pages_to_be_deleted = []\n",
    "    ct_by_props = {}\n",
    "    for page_num in range(len(doc) - 1):\n",
    "        # Get page's text (json format)\n",
    "        json_text = doc[page_num].getText(\"json\")\n",
    "\n",
    "        # Convert string/json to usable format (dictionary/lists)\n",
    "        json_text = json.loads(json_text)  \n",
    "        text_blocks = json_text[\"blocks\"]\n",
    "\n",
    "        # Set previous properties to None to prepare for comparisons\n",
    "        prev_props = (None, None)\n",
    "        text_holder = \"\"\n",
    "\n",
    "        # Iterate through all the text entries to count words for each set of properties\n",
    "        for entry in text_blocks: \n",
    "            # Check if this block is an image\n",
    "            try:\n",
    "                img = entry[\"image\"]\n",
    "            except:\n",
    "                img = None\n",
    "                pass\n",
    "\n",
    "            # Check if this block exists, or if the end of the page has been reached\n",
    "            try: \n",
    "                lines = entry[\"lines\"]\n",
    "            except:\n",
    "                lines = None\n",
    "                pass\n",
    "\n",
    "            # Line is not an image and contains text so we continue\n",
    "            if lines != None and img == None:             \n",
    "                for spans in lines:\n",
    "                    # Get the line data\n",
    "                    spans = spans[\"spans\"]                \n",
    "\n",
    "                    for i in range(len(spans)):\n",
    "                        span = spans[i]\n",
    "\n",
    "                        # Identify current line's properties and text\n",
    "                        # put into tuple - (font, size, color)\n",
    "                        props = (span[\"font\"], round(span[\"size\"]))\n",
    "                        text = span[\"text\"]\n",
    "\n",
    "                        ct = count_words(text_holder)\n",
    "\n",
    "                        # Update dictionary\n",
    "                        if props not in ct_by_props:\n",
    "                            ct_by_props[props] = ct\n",
    "                        else:\n",
    "                            ct_by_props[props] = ct_by_props[props] + ct\n",
    "\n",
    "                        # Update text holder & prev properties to new\n",
    "                        text_holder = text\n",
    "                        prev_props = props\n",
    "                        \n",
    "    max_ct, body_text_props = find_body_text(ct_by_props)                    \n",
    "                        \n",
    "    return max_ct, body_text_props"
   ]
  },
  {
   "cell_type": "code",
   "execution_count": 43,
   "id": "b87def13",
   "metadata": {},
   "outputs": [],
   "source": [
    "def count_words(s):\n",
    "    return len(findall(r'\\w+', s))\n",
    "\n",
    "\n",
    "def find_body_text(ct_by_props):\n",
    "    max_ct = 0\n",
    "    max_ct_props = None\n",
    "    for props in ct_by_props:\n",
    "        props_ct = ct_by_props[props]\n",
    "        if props_ct > max_ct:\n",
    "            max_ct = props_ct\n",
    "            max_ct_props = props\n",
    "    return max_ct, max_ct_props\n",
    "\n",
    "\n",
    "def print_body_text_props(ct, body_text_props):\n",
    "    font = body_text_props[0]\n",
    "    font_size = body_text_props[1]\n",
    "\n",
    "    print(\"Body text properties:\")\n",
    "    print(\"Font:\", font)\n",
    "    print(\"Font Size:\", font_size)\n",
    "    print(\"Number of words:\", ct)\n",
    "    print()\n",
    "    return"
   ]
  },
  {
   "cell_type": "markdown",
   "id": "df4ffe05",
   "metadata": {},
   "source": [
    "### Remove extraneous pages (appendix/CVs)"
   ]
  },
  {
   "cell_type": "code",
   "execution_count": 26,
   "id": "bdecb300",
   "metadata": {},
   "outputs": [],
   "source": [
    "'''Finds page numbers that are resumes OR introduction letters'''\n",
    "def find_extraneous_pages(doc):\n",
    "    pages_to_be_deleted = []\n",
    "    for page_num in range(len(doc) - 1):        \n",
    "        # Get page's text (json format)\n",
    "        json_text = doc[page_num].getText(\"json\")\n",
    "\n",
    "        # Convert string/json to usable format (dictionary/lists)\n",
    "        json_text = json.loads(json_text)  \n",
    "        text_blocks = json_text[\"blocks\"]\n",
    "\n",
    "        # Set previous properties to None to prepare for comparisons\n",
    "        prev_props = (None, None, None)\n",
    "        text_holder = \"\"\n",
    "\n",
    "        # Iterate through all the text entries to count words for each set of properties\n",
    "        for entry in text_blocks: \n",
    "            # Check if this block is an image\n",
    "            try:\n",
    "                img = entry[\"image\"]\n",
    "            except:\n",
    "                img = None\n",
    "                pass\n",
    "\n",
    "            # Check if this block exists, or if the end of the page has been reached\n",
    "            try: \n",
    "                lines = entry[\"lines\"]\n",
    "            except:\n",
    "                lines = None\n",
    "                pass\n",
    "\n",
    "            # Line is not an image and contains text so we continue\n",
    "            if lines != None and img == None:             \n",
    "                for spans in lines:\n",
    "                    # Get the line data\n",
    "                    spans = spans[\"spans\"]                \n",
    "\n",
    "                    for i in range(len(spans)):\n",
    "                        span = spans[i]\n",
    "\n",
    "                        # Identify current line's properties and text - (font, size, color)\n",
    "                        props = (span[\"font\"], round(span[\"size\"]), span[\"color\"])\n",
    "                        text = span[\"text\"]\n",
    "\n",
    "                        ct = count_words(text_holder)\n",
    "\n",
    "                        # Check letter\n",
    "                        text_lower = text.lower()\n",
    "                        if page_num not in pages_to_be_deleted:\n",
    "                            if (\"re:\" in text_lower) or (\"sincerely\" in text_lower):\n",
    "                                print(\"Found letter, page\", page_num)\n",
    "                                pages_to_be_deleted.append(page_num) \n",
    "                        \n",
    "                        # Check resume\n",
    "                        if prev_props == props:\n",
    "                            text_holder += text\n",
    "                        else:\n",
    "                            if is_resume_footer(text_holder, prev_props):\n",
    "                                pages_to_be_deleted.append(page_num) \n",
    "                            text_holder = text\n",
    "                            prev_props = props                   \n",
    "                        \n",
    "    return pages_to_be_deleted"
   ]
  },
  {
   "cell_type": "code",
   "execution_count": 5,
   "id": "981d5bbe",
   "metadata": {},
   "outputs": [],
   "source": [
    "def is_resume_footer(text, props):\n",
    "    ''' \n",
    "    If we can only remove resumes:\n",
    "    1. Check whether a block of text is a resume footer (using text properties & name checking)\n",
    "    2. Probably need to manually remove the resumes from old (pre-2020) pdfs, as they don't match format of new pdfs\n",
    "    '''\n",
    "    resume_footer_props = ('ArialNarrow-Bold', 9, 2576241)\n",
    "    resume_names = [\"LIZ MANASSEE\", \n",
    "                    \"TOM CONLIN, PE\", \"TOM CONLIN\",\n",
    "                    'JAMES \"KEN\" MCCARRON, PH. D.', 'JAMES \"KEN\" MCCARRON',\n",
    "                    \"ANGY CASAMENTO, PE\", \"ANGY CASAMENTO\", \n",
    "                    \"LUKE ARNOLD\", \"LUKE ARNOLD, PE\", \n",
    "                    \"RICHARD ARCHER, PE\", \"RICHARD ARCHER\", \n",
    "                    \"ROBERT SMITH, PE\", \"ROBERT SMITH\", \n",
    "                    \"CLARK ROBERTS, PE\", \"CLARK ROBERTS\",\n",
    "                    \"ANGY CASAMENTO, PE\", \"ANGY CASAMENTO\", \n",
    "                    \"PAUL MOREAU, PE\", \"PAUL MOREAU\", \n",
    "                    \"ANDI SCHMID, PE\", \"ANDI SCHMID\", \n",
    "                    \"AARON LAUINGER\",]\n",
    "    if (props == resume_footer_props):\n",
    "        text = text.strip(\"|, \")\n",
    "        if (text in resume_names):\n",
    "            return True\n",
    "    return False"
   ]
  },
  {
   "cell_type": "code",
   "execution_count": 68,
   "id": "5739d004",
   "metadata": {},
   "outputs": [],
   "source": [
    "def remove_extra_pages(doc, pages_to_remove = []):\n",
    "    # Remove resumes/letters by page number\n",
    "    for page_num in reversed(pages_to_remove):\n",
    "        doc.deletePage(page_num)\n",
    "\n",
    "    # Find & remove appendix\n",
    "    for page_num in range(len(doc) - 1):\n",
    "        # Check the page word count (Low word count = title page)\n",
    "        plain_text = doc[page_num].getText(\"text\")\n",
    "        page_wordcount = count_words(plain_text)\n",
    "        if page_wordcount < 10:\n",
    "            no_newlines_text = plain_text.replace(\"\\n\", \" \").lower()\n",
    "            # Check if appendix. \n",
    "            if no_newlines_text.startswith(\"table of contents\"):\n",
    "                pass\n",
    "            elif \"appendix\" in no_newlines_text:\n",
    "                # Beginning of the appendix. Remove all subsequent pgs\n",
    "                doc.deletePageRange(page_num, len(doc) - 1)\n",
    "                return\n",
    "            \n",
    "    # Remove cover page\n",
    "    doc.deletePage(0)\n",
    "    \n",
    "    return"
   ]
  },
  {
   "cell_type": "markdown",
   "id": "4cd3b3d9",
   "metadata": {},
   "source": [
    "### Save document as a dictionary to associate headers w/ body text"
   ]
  },
  {
   "cell_type": "code",
   "execution_count": 62,
   "id": "b5273302",
   "metadata": {},
   "outputs": [],
   "source": [
    "'''\n",
    "Using the previously-found body text properties, save the document into a dictionary.\n",
    "'''\n",
    "def save_to_dict(doc, body_text_props):    \n",
    "    text_dict = {}\n",
    "    for page_num in range(len(doc) - 1):\n",
    "        # Get page's text (json format)\n",
    "        json_text = doc[page_num].getText(\"json\")\n",
    "\n",
    "        # Group json entries by those that share the same color&font&size\n",
    "\n",
    "        # Convert string/json to usable format (dictionary/lists)\n",
    "        json_text = json.loads(json_text)  \n",
    "        text_blocks = json_text[\"blocks\"]\n",
    "\n",
    "        # Set previous properties to None to prepare for comparisons\n",
    "        prev_props = (None, None)\n",
    "        prev_type = None\n",
    "        text_holder = \"\"\n",
    "\n",
    "        # Iterate through all the text entries\n",
    "        for entry in text_blocks:\n",
    "            # Check if this block is an image\n",
    "            try:\n",
    "                img = entry[\"image\"]\n",
    "            except:\n",
    "                img = None\n",
    "                pass\n",
    "\n",
    "            # Check if this block exists, or if the end of the page has been reached\n",
    "            try: \n",
    "                lines = entry[\"lines\"]\n",
    "            except:\n",
    "                lines = None\n",
    "                pass\n",
    "\n",
    "            # Line is not an image and contains text so we continue\n",
    "            if lines != None and img == None:             \n",
    "                for spans in lines:\n",
    "                    # Get the line data\n",
    "                    spans = spans[\"spans\"]                \n",
    "\n",
    "                    for i in range(len(spans)):\n",
    "                        span = spans[i]\n",
    "\n",
    "                        # Identify current line's properties and text\n",
    "                        props = (span[\"font\"], round(span[\"size\"]))\n",
    "                        color = span[\"color\"]\n",
    "                        text = span[\"text\"].strip()\n",
    "                        \n",
    "                        if text != \"\":\n",
    "                            # Check if current line is body text                        \n",
    "                            if props == body_text_props and is_color_grayscale(color):\n",
    "                                prev_type = \"body\"\n",
    "                                prev_props = props\n",
    "                                try:\n",
    "                                    text_dict[header] += \" \" + text\n",
    "                                except KeyError:\n",
    "                                    text_dict[header] = text\n",
    "                            else: \n",
    "                                # Not body text.\n",
    "                                if prev_type == \"header\" and prev_props == props:\n",
    "                                    header += \" \" + text\n",
    "                                else:\n",
    "                                    header = text\n",
    "                                prev_type = \"header\"\n",
    "                                prev_props = props\n",
    "    return text_dict"
   ]
  },
  {
   "cell_type": "code",
   "execution_count": 40,
   "id": "3e1f9104",
   "metadata": {},
   "outputs": [
    {
     "data": {
      "text/plain": [
       "True"
      ]
     },
     "execution_count": 40,
     "metadata": {},
     "output_type": "execute_result"
    }
   ],
   "source": [
    "def is_color_grayscale(srgb_color):\n",
    "    # Is the color approximately grayscale?\n",
    "    rgb = get_rgb_color(srgb_color)\n",
    "    if max(rgb) - min(rgb) <= 40:\n",
    "        return True\n",
    "    return False\n",
    "\n",
    "    \n",
    "def get_rgb_color(srgb_color_code):\n",
    "    cc = fitz.sRGB_to_rgb(srgb_color_code)\n",
    "    return cc\n",
    "    \n",
    "is_color_grayscale(2373188)"
   ]
  },
  {
   "cell_type": "markdown",
   "id": "4f0fd54e",
   "metadata": {},
   "source": [
    "## Notes section (Misc. code used for debugging)"
   ]
  },
  {
   "cell_type": "code",
   "execution_count": 3,
   "id": "1bce7310",
   "metadata": {
    "scrolled": false
   },
   "outputs": [
    {
     "name": "stderr",
     "output_type": "stream",
     "text": [
      "mupdf: cannot open ./downloaded/pdf.pdf: No such file or directory\n"
     ]
    },
    {
     "ename": "RuntimeError",
     "evalue": "cannot open ./downloaded/pdf.pdf: No such file or directory",
     "output_type": "error",
     "traceback": [
      "\u001b[1;31m---------------------------------------------------------------------------\u001b[0m",
      "\u001b[1;31mRuntimeError\u001b[0m                              Traceback (most recent call last)",
      "\u001b[1;32m<ipython-input-3-ddbeec4b4362>\u001b[0m in \u001b[0;36m<module>\u001b[1;34m\u001b[0m\n\u001b[1;32m----> 1\u001b[1;33m \u001b[0mdoc\u001b[0m \u001b[1;33m=\u001b[0m \u001b[0mfitz\u001b[0m\u001b[1;33m.\u001b[0m\u001b[0mopen\u001b[0m\u001b[1;33m(\u001b[0m\u001b[1;34m\"./downloaded/pdf.pdf\"\u001b[0m\u001b[1;33m)\u001b[0m\u001b[1;33m\u001b[0m\u001b[1;33m\u001b[0m\u001b[0m\n\u001b[0m\u001b[0;32m      2\u001b[0m \u001b[0mpage_num\u001b[0m \u001b[1;33m=\u001b[0m \u001b[1;36m9\u001b[0m\u001b[1;33m\u001b[0m\u001b[1;33m\u001b[0m\u001b[0m\n\u001b[0;32m      3\u001b[0m \u001b[1;33m\u001b[0m\u001b[0m\n\u001b[0;32m      4\u001b[0m \u001b[1;32mdef\u001b[0m \u001b[0mget_props_text\u001b[0m\u001b[1;33m(\u001b[0m\u001b[0mdoc\u001b[0m\u001b[1;33m,\u001b[0m \u001b[0mpage_num\u001b[0m\u001b[1;33m)\u001b[0m\u001b[1;33m:\u001b[0m\u001b[1;33m\u001b[0m\u001b[1;33m\u001b[0m\u001b[0m\n\u001b[0;32m      5\u001b[0m     \u001b[1;31m# Get page's text (json format)\u001b[0m\u001b[1;33m\u001b[0m\u001b[1;33m\u001b[0m\u001b[1;33m\u001b[0m\u001b[0m\n",
      "\u001b[1;32mC:\\ProgramData\\Anaconda3\\lib\\site-packages\\fitz\\fitz.py\u001b[0m in \u001b[0;36m__init__\u001b[1;34m(self, filename, stream, filetype, rect, width, height, fontsize)\u001b[0m\n\u001b[0;32m   3605\u001b[0m         _fitz.Document_swiginit(\n\u001b[0;32m   3606\u001b[0m             \u001b[0mself\u001b[0m\u001b[1;33m,\u001b[0m\u001b[1;33m\u001b[0m\u001b[1;33m\u001b[0m\u001b[0m\n\u001b[1;32m-> 3607\u001b[1;33m             _fitz.new_Document(\n\u001b[0m\u001b[0;32m   3608\u001b[0m                 \u001b[0mfilename\u001b[0m\u001b[1;33m,\u001b[0m \u001b[0mstream\u001b[0m\u001b[1;33m,\u001b[0m \u001b[0mfiletype\u001b[0m\u001b[1;33m,\u001b[0m \u001b[0mrect\u001b[0m\u001b[1;33m,\u001b[0m \u001b[0mwidth\u001b[0m\u001b[1;33m,\u001b[0m \u001b[0mheight\u001b[0m\u001b[1;33m,\u001b[0m \u001b[0mfontsize\u001b[0m\u001b[1;33m\u001b[0m\u001b[1;33m\u001b[0m\u001b[0m\n\u001b[0;32m   3609\u001b[0m             ),\n",
      "\u001b[1;31mRuntimeError\u001b[0m: cannot open ./downloaded/pdf.pdf: No such file or directory"
     ]
    }
   ],
   "source": [
    "doc = fitz.open(\"./downloaded/pdf.pdf\")\n",
    "page_num = 9\n",
    "\n",
    "def get_props_text(doc, page_num):\n",
    "    # Get page's text (json format)\n",
    "    json_text = doc[page_num].getText(\"json\")\n",
    "\n",
    "    # Convert string/json to usable format (dictionary/lists)\n",
    "    json_text = json.loads(json_text)  \n",
    "    text_blocks = json_text[\"blocks\"]\n",
    "\n",
    "    # Iterate through all the text entries to count words for each set of properties\n",
    "    for entry in text_blocks: \n",
    "        # Check if this block is an image\n",
    "        try:\n",
    "            img = entry[\"image\"]\n",
    "        except:\n",
    "            img = None\n",
    "            pass\n",
    "\n",
    "        # Check if this block exists, or if the end of the page has been reached\n",
    "        try: \n",
    "            lines = entry[\"lines\"]\n",
    "        except:\n",
    "            lines = None\n",
    "            pass\n",
    "\n",
    "        # Line is not an image and contains text so we continue\n",
    "        if lines != None and img == None:             \n",
    "            for spans in lines:\n",
    "                # Get the line data\n",
    "                spans = spans[\"spans\"]                \n",
    "\n",
    "                for i in range(len(spans)):\n",
    "                    span = spans[i]\n",
    "                    # Identify current line's properties and text\n",
    "                    # put into tuple - (font, size, color)\n",
    "                    props = (span[\"font\"], round(span[\"size\"]), span[\"color\"])\n",
    "                    text = span[\"text\"]\n",
    "                    text = text.strip(\"|\")\n",
    "                    print(span[\"font\"], round(span[\"size\"]), get_rgb_color(span[\"color\"]), \"|\", text)\n",
    "    return\n",
    "\n",
    "get_props_text(doc, page_num)"
   ]
  },
  {
   "cell_type": "code",
   "execution_count": 79,
   "id": "d33a089f",
   "metadata": {
    "collapsed": true
   },
   "outputs": [
    {
     "name": "stderr",
     "output_type": "stream",
     "text": [
      "mupdf: cannot open ./downloaded/.pdf: No such file or directory\n"
     ]
    },
    {
     "ename": "RuntimeError",
     "evalue": "cannot open ./downloaded/.pdf: No such file or directory",
     "output_type": "error",
     "traceback": [
      "\u001b[1;31m---------------------------------------------------------------------------\u001b[0m",
      "\u001b[1;31mRuntimeError\u001b[0m                              Traceback (most recent call last)",
      "\u001b[1;32m<ipython-input-79-3c53b3f30814>\u001b[0m in \u001b[0;36m<module>\u001b[1;34m\u001b[0m\n\u001b[0;32m      1\u001b[0m \u001b[1;31m# Check what style is like for json entries/spans/span/text\u001b[0m\u001b[1;33m\u001b[0m\u001b[1;33m\u001b[0m\u001b[1;33m\u001b[0m\u001b[0m\n\u001b[1;32m----> 2\u001b[1;33m \u001b[0mdoc\u001b[0m \u001b[1;33m=\u001b[0m \u001b[0mfitz\u001b[0m\u001b[1;33m.\u001b[0m\u001b[0mopen\u001b[0m\u001b[1;33m(\u001b[0m\u001b[1;34m\"./downloaded/.pdf\"\u001b[0m\u001b[1;33m)\u001b[0m\u001b[1;33m\u001b[0m\u001b[1;33m\u001b[0m\u001b[0m\n\u001b[0m\u001b[0;32m      3\u001b[0m \u001b[0mpage_num\u001b[0m \u001b[1;33m=\u001b[0m \u001b[1;36m13\u001b[0m\u001b[1;33m\u001b[0m\u001b[1;33m\u001b[0m\u001b[0m\n\u001b[0;32m      4\u001b[0m \u001b[1;33m\u001b[0m\u001b[0m\n\u001b[0;32m      5\u001b[0m \u001b[1;32mdef\u001b[0m \u001b[0mprint_first_entry\u001b[0m\u001b[1;33m(\u001b[0m\u001b[0mdoc\u001b[0m\u001b[1;33m,\u001b[0m \u001b[0mpage_num\u001b[0m\u001b[1;33m)\u001b[0m\u001b[1;33m:\u001b[0m\u001b[1;33m\u001b[0m\u001b[1;33m\u001b[0m\u001b[0m\n",
      "\u001b[1;32mC:\\ProgramData\\Anaconda3\\lib\\site-packages\\fitz\\fitz.py\u001b[0m in \u001b[0;36m__init__\u001b[1;34m(self, filename, stream, filetype, rect, width, height, fontsize)\u001b[0m\n\u001b[0;32m   3605\u001b[0m         _fitz.Document_swiginit(\n\u001b[0;32m   3606\u001b[0m             \u001b[0mself\u001b[0m\u001b[1;33m,\u001b[0m\u001b[1;33m\u001b[0m\u001b[1;33m\u001b[0m\u001b[0m\n\u001b[1;32m-> 3607\u001b[1;33m             _fitz.new_Document(\n\u001b[0m\u001b[0;32m   3608\u001b[0m                 \u001b[0mfilename\u001b[0m\u001b[1;33m,\u001b[0m \u001b[0mstream\u001b[0m\u001b[1;33m,\u001b[0m \u001b[0mfiletype\u001b[0m\u001b[1;33m,\u001b[0m \u001b[0mrect\u001b[0m\u001b[1;33m,\u001b[0m \u001b[0mwidth\u001b[0m\u001b[1;33m,\u001b[0m \u001b[0mheight\u001b[0m\u001b[1;33m,\u001b[0m \u001b[0mfontsize\u001b[0m\u001b[1;33m\u001b[0m\u001b[1;33m\u001b[0m\u001b[0m\n\u001b[0;32m   3609\u001b[0m             ),\n",
      "\u001b[1;31mRuntimeError\u001b[0m: cannot open ./downloaded/.pdf: No such file or directory"
     ]
    }
   ],
   "source": [
    "# Check what style is like for json entries/spans/span/text\n",
    "doc = fitz.open(\"./downloaded/.pdf\")\n",
    "page_num = 13\n",
    "\n",
    "def print_first_entry(doc, page_num):\n",
    "    # Get page's text (json format)\n",
    "    json_text = doc[page_num].getText(\"json\")\n",
    "\n",
    "    # Convert string/json to usable format (dictionary/lists)\n",
    "    json_text = json.loads(json_text)  \n",
    "    text_blocks = json_text[\"blocks\"]\n",
    "    \n",
    "    # Iterate through all the text entries\n",
    "    for entry in text_blocks:\n",
    "        \n",
    "        lines = entry[\"lines\"]\n",
    "        print(\"LINES:\\n\", lines, \"\\n\")\n",
    "\n",
    "        if lines != None:\n",
    "            for spans in lines:       \n",
    "                # Get the line data\n",
    "                spans = spans[\"spans\"]\n",
    "                \n",
    "                print(\"SPANS:\\n\", spans, \"\\n\")\n",
    "\n",
    "                for i in range(len(spans)):\n",
    "                    span = spans[i]\n",
    "                    \n",
    "                    print(\"SPAN:\\n\", span, \"\\n\")\n",
    "                    \n",
    "                    # Identify current line's properties and text\n",
    "                    text = span[\"text\"]\n",
    "                    print(\"TEXT:\\n\", text, \"\\n\")\n",
    "        break\n",
    "    return\n",
    "\n",
    "print_first_entry(doc,page_num)"
   ]
  },
  {
   "cell_type": "code",
   "execution_count": 72,
   "id": "e280ed41",
   "metadata": {
    "collapsed": true
   },
   "outputs": [
    {
     "name": "stderr",
     "output_type": "stream",
     "text": [
      "mupdf: cannot open ./downloaded/pdf.pdf: No such file or directory\n"
     ]
    },
    {
     "ename": "RuntimeError",
     "evalue": "cannot open ./downloaded/pdf.pdf: No such file or directory",
     "output_type": "error",
     "traceback": [
      "\u001b[1;31m---------------------------------------------------------------------------\u001b[0m",
      "\u001b[1;31mRuntimeError\u001b[0m                              Traceback (most recent call last)",
      "\u001b[1;32m<ipython-input-72-2541fe9df503>\u001b[0m in \u001b[0;36m<module>\u001b[1;34m\u001b[0m\n\u001b[1;32m----> 1\u001b[1;33m \u001b[0mdoc\u001b[0m \u001b[1;33m=\u001b[0m \u001b[0mfitz\u001b[0m\u001b[1;33m.\u001b[0m\u001b[0mopen\u001b[0m\u001b[1;33m(\u001b[0m\u001b[1;34m\"./downloaded/pdf.pdf\"\u001b[0m\u001b[1;33m)\u001b[0m\u001b[1;33m\u001b[0m\u001b[1;33m\u001b[0m\u001b[0m\n\u001b[0m\u001b[0;32m      2\u001b[0m \u001b[0mpage_num\u001b[0m \u001b[1;33m=\u001b[0m \u001b[1;36m30\u001b[0m\u001b[1;33m\u001b[0m\u001b[1;33m\u001b[0m\u001b[0m\n\u001b[0;32m      3\u001b[0m \u001b[1;33m\u001b[0m\u001b[0m\n\u001b[0;32m      4\u001b[0m \u001b[1;32mdef\u001b[0m \u001b[0mget_json_text\u001b[0m\u001b[1;33m(\u001b[0m\u001b[0mdoc\u001b[0m\u001b[1;33m,\u001b[0m \u001b[0mpage_num\u001b[0m\u001b[1;33m)\u001b[0m\u001b[1;33m:\u001b[0m\u001b[1;33m\u001b[0m\u001b[1;33m\u001b[0m\u001b[0m\n\u001b[0;32m      5\u001b[0m     \u001b[1;31m# Get page's text (json format)\u001b[0m\u001b[1;33m\u001b[0m\u001b[1;33m\u001b[0m\u001b[1;33m\u001b[0m\u001b[0m\n",
      "\u001b[1;32mC:\\ProgramData\\Anaconda3\\lib\\site-packages\\fitz\\fitz.py\u001b[0m in \u001b[0;36m__init__\u001b[1;34m(self, filename, stream, filetype, rect, width, height, fontsize)\u001b[0m\n\u001b[0;32m   3605\u001b[0m         _fitz.Document_swiginit(\n\u001b[0;32m   3606\u001b[0m             \u001b[0mself\u001b[0m\u001b[1;33m,\u001b[0m\u001b[1;33m\u001b[0m\u001b[1;33m\u001b[0m\u001b[0m\n\u001b[1;32m-> 3607\u001b[1;33m             _fitz.new_Document(\n\u001b[0m\u001b[0;32m   3608\u001b[0m                 \u001b[0mfilename\u001b[0m\u001b[1;33m,\u001b[0m \u001b[0mstream\u001b[0m\u001b[1;33m,\u001b[0m \u001b[0mfiletype\u001b[0m\u001b[1;33m,\u001b[0m \u001b[0mrect\u001b[0m\u001b[1;33m,\u001b[0m \u001b[0mwidth\u001b[0m\u001b[1;33m,\u001b[0m \u001b[0mheight\u001b[0m\u001b[1;33m,\u001b[0m \u001b[0mfontsize\u001b[0m\u001b[1;33m\u001b[0m\u001b[1;33m\u001b[0m\u001b[0m\n\u001b[0;32m   3609\u001b[0m             ),\n",
      "\u001b[1;31mRuntimeError\u001b[0m: cannot open ./downloaded/pdf.pdf: No such file or directory"
     ]
    }
   ],
   "source": [
    "doc = fitz.open(\"./downloaded/pdf.pdf\")\n",
    "page_num = 30\n",
    "\n",
    "def get_json_text(doc, page_num):\n",
    "    # Get page's text (json format)\n",
    "    json_text = doc[page_num].getText(\"json\")\n",
    "\n",
    "    # Group json entries by those that share the same color&font&size\n",
    "\n",
    "    # Convert string/json to usable format (dictionary/lists)\n",
    "    json_text = json.loads(json_text)  \n",
    "    text_blocks = json_text[\"blocks\"]\n",
    "    return print(text_blocks)\n",
    "\n",
    "get_json_text(doc, page_num)"
   ]
  },
  {
   "cell_type": "code",
   "execution_count": 77,
   "id": "86a466b3",
   "metadata": {
    "collapsed": true
   },
   "outputs": [
    {
     "name": "stderr",
     "output_type": "stream",
     "text": [
      "mupdf: cannot open ./downloaded/PDF.pdf: No such file or directory\n"
     ]
    },
    {
     "ename": "RuntimeError",
     "evalue": "cannot open ./downloaded/PDF.pdf: No such file or directory",
     "output_type": "error",
     "traceback": [
      "\u001b[1;31m---------------------------------------------------------------------------\u001b[0m",
      "\u001b[1;31mRuntimeError\u001b[0m                              Traceback (most recent call last)",
      "\u001b[1;32m<ipython-input-77-062e11b72b73>\u001b[0m in \u001b[0;36m<module>\u001b[1;34m\u001b[0m\n\u001b[1;32m----> 1\u001b[1;33m \u001b[0mdoc\u001b[0m \u001b[1;33m=\u001b[0m \u001b[0mfitz\u001b[0m\u001b[1;33m.\u001b[0m\u001b[0mopen\u001b[0m\u001b[1;33m(\u001b[0m\u001b[1;34m\"./downloaded/PDF.pdf\"\u001b[0m\u001b[1;33m)\u001b[0m\u001b[1;33m\u001b[0m\u001b[1;33m\u001b[0m\u001b[0m\n\u001b[0m\u001b[0;32m      2\u001b[0m \u001b[0mpage_num\u001b[0m \u001b[1;33m=\u001b[0m \u001b[1;36m4\u001b[0m\u001b[1;33m\u001b[0m\u001b[1;33m\u001b[0m\u001b[0m\n\u001b[0;32m      3\u001b[0m \u001b[1;33m\u001b[0m\u001b[0m\n\u001b[0;32m      4\u001b[0m \u001b[1;32mdef\u001b[0m \u001b[0mget_plain_text\u001b[0m\u001b[1;33m(\u001b[0m\u001b[0mdoc\u001b[0m\u001b[1;33m,\u001b[0m \u001b[0mpage_num\u001b[0m\u001b[1;33m)\u001b[0m\u001b[1;33m:\u001b[0m\u001b[1;33m\u001b[0m\u001b[1;33m\u001b[0m\u001b[0m\n\u001b[0;32m      5\u001b[0m     \u001b[1;31m# Get page's text\u001b[0m\u001b[1;33m\u001b[0m\u001b[1;33m\u001b[0m\u001b[1;33m\u001b[0m\u001b[0m\n",
      "\u001b[1;32mC:\\ProgramData\\Anaconda3\\lib\\site-packages\\fitz\\fitz.py\u001b[0m in \u001b[0;36m__init__\u001b[1;34m(self, filename, stream, filetype, rect, width, height, fontsize)\u001b[0m\n\u001b[0;32m   3605\u001b[0m         _fitz.Document_swiginit(\n\u001b[0;32m   3606\u001b[0m             \u001b[0mself\u001b[0m\u001b[1;33m,\u001b[0m\u001b[1;33m\u001b[0m\u001b[1;33m\u001b[0m\u001b[0m\n\u001b[1;32m-> 3607\u001b[1;33m             _fitz.new_Document(\n\u001b[0m\u001b[0;32m   3608\u001b[0m                 \u001b[0mfilename\u001b[0m\u001b[1;33m,\u001b[0m \u001b[0mstream\u001b[0m\u001b[1;33m,\u001b[0m \u001b[0mfiletype\u001b[0m\u001b[1;33m,\u001b[0m \u001b[0mrect\u001b[0m\u001b[1;33m,\u001b[0m \u001b[0mwidth\u001b[0m\u001b[1;33m,\u001b[0m \u001b[0mheight\u001b[0m\u001b[1;33m,\u001b[0m \u001b[0mfontsize\u001b[0m\u001b[1;33m\u001b[0m\u001b[1;33m\u001b[0m\u001b[0m\n\u001b[0;32m   3609\u001b[0m             ),\n",
      "\u001b[1;31mRuntimeError\u001b[0m: cannot open ./downloaded/PDF.pdf: No such file or directory"
     ]
    }
   ],
   "source": [
    "doc = fitz.open(\"./downloaded/PDF.pdf\")\n",
    "page_num = 4\n",
    "\n",
    "def get_plain_text(doc, page_num):\n",
    "    # Get page's text\n",
    "    plain_text = doc[page_num].getText(\"text\")\n",
    "    no_newlines_text = plain_text.replace(\"\\n\", \" \").lower()\n",
    "    print(no_newlines_text)\n",
    "    return"
   ]
  },
  {
   "cell_type": "code",
   "execution_count": 75,
   "id": "44636ae7",
   "metadata": {
    "collapsed": true
   },
   "outputs": [
    {
     "name": "stderr",
     "output_type": "stream",
     "text": [
      "mupdf: cannot open ./downloaded/.pdf: No such file or directory\n"
     ]
    },
    {
     "ename": "RuntimeError",
     "evalue": "cannot open ./downloaded/.pdf: No such file or directory",
     "output_type": "error",
     "traceback": [
      "\u001b[1;31m---------------------------------------------------------------------------\u001b[0m",
      "\u001b[1;31mRuntimeError\u001b[0m                              Traceback (most recent call last)",
      "\u001b[1;32m<ipython-input-75-27d15942e5a6>\u001b[0m in \u001b[0;36m<module>\u001b[1;34m\u001b[0m\n\u001b[1;32m----> 1\u001b[1;33m \u001b[0mdoc\u001b[0m \u001b[1;33m=\u001b[0m \u001b[0mfitz\u001b[0m\u001b[1;33m.\u001b[0m\u001b[0mopen\u001b[0m\u001b[1;33m(\u001b[0m\u001b[1;34m\"./downloaded/.pdf\"\u001b[0m\u001b[1;33m)\u001b[0m\u001b[1;33m\u001b[0m\u001b[1;33m\u001b[0m\u001b[0m\n\u001b[0m\u001b[0;32m      2\u001b[0m \u001b[0mpage_num\u001b[0m \u001b[1;33m=\u001b[0m \u001b[1;36m4\u001b[0m\u001b[1;33m\u001b[0m\u001b[1;33m\u001b[0m\u001b[0m\n\u001b[0;32m      3\u001b[0m \u001b[1;33m\u001b[0m\u001b[0m\n\u001b[0;32m      4\u001b[0m \u001b[1;32mdef\u001b[0m \u001b[0mhandle_title_page\u001b[0m\u001b[1;33m(\u001b[0m\u001b[0mdoc\u001b[0m\u001b[1;33m,\u001b[0m \u001b[0mpage_num\u001b[0m\u001b[1;33m)\u001b[0m\u001b[1;33m:\u001b[0m\u001b[1;33m\u001b[0m\u001b[1;33m\u001b[0m\u001b[0m\n\u001b[0;32m      5\u001b[0m     \u001b[0mplain_text\u001b[0m \u001b[1;33m=\u001b[0m \u001b[0mdoc\u001b[0m\u001b[1;33m[\u001b[0m\u001b[0mpage_num\u001b[0m\u001b[1;33m]\u001b[0m\u001b[1;33m.\u001b[0m\u001b[0mgetText\u001b[0m\u001b[1;33m(\u001b[0m\u001b[1;34m\"text\"\u001b[0m\u001b[1;33m)\u001b[0m\u001b[1;33m\u001b[0m\u001b[1;33m\u001b[0m\u001b[0m\n",
      "\u001b[1;32mC:\\ProgramData\\Anaconda3\\lib\\site-packages\\fitz\\fitz.py\u001b[0m in \u001b[0;36m__init__\u001b[1;34m(self, filename, stream, filetype, rect, width, height, fontsize)\u001b[0m\n\u001b[0;32m   3605\u001b[0m         _fitz.Document_swiginit(\n\u001b[0;32m   3606\u001b[0m             \u001b[0mself\u001b[0m\u001b[1;33m,\u001b[0m\u001b[1;33m\u001b[0m\u001b[1;33m\u001b[0m\u001b[0m\n\u001b[1;32m-> 3607\u001b[1;33m             _fitz.new_Document(\n\u001b[0m\u001b[0;32m   3608\u001b[0m                 \u001b[0mfilename\u001b[0m\u001b[1;33m,\u001b[0m \u001b[0mstream\u001b[0m\u001b[1;33m,\u001b[0m \u001b[0mfiletype\u001b[0m\u001b[1;33m,\u001b[0m \u001b[0mrect\u001b[0m\u001b[1;33m,\u001b[0m \u001b[0mwidth\u001b[0m\u001b[1;33m,\u001b[0m \u001b[0mheight\u001b[0m\u001b[1;33m,\u001b[0m \u001b[0mfontsize\u001b[0m\u001b[1;33m\u001b[0m\u001b[1;33m\u001b[0m\u001b[0m\n\u001b[0;32m   3609\u001b[0m             ),\n",
      "\u001b[1;31mRuntimeError\u001b[0m: cannot open ./downloaded/.pdf: No such file or directory"
     ]
    }
   ],
   "source": [
    "doc = fitz.open(\"./downloaded/.pdf\")\n",
    "page_num = 4\n",
    "\n",
    "def handle_title_page(doc, page_num):\n",
    "    plain_text = doc[page_num].getText(\"text\")\n",
    "    no_newlines_text = plain_text.replace(\"\\n\", \" \").lower()\n",
    "    print(no_newlines_text)\n",
    "    \n",
    "    # Check if ToC, or appendix.\n",
    "    if no_newlines_text.startswith(\"table of contents\"):\n",
    "        print(\"toc\")\n",
    "    elif no_newlines_text.startswith(\"appendix\"):\n",
    "        print(\"appendix\")\n",
    "    else:\n",
    "        print(\"neither\")"
   ]
  }
 ],
 "metadata": {
  "kernelspec": {
   "display_name": "Python 3",
   "language": "python",
   "name": "python3"
  },
  "language_info": {
   "codemirror_mode": {
    "name": "ipython",
    "version": 3
   },
   "file_extension": ".py",
   "mimetype": "text/x-python",
   "name": "python",
   "nbconvert_exporter": "python",
   "pygments_lexer": "ipython3",
   "version": "3.8.8"
  }
 },
 "nbformat": 4,
 "nbformat_minor": 5
}
